{
 "cells": [
  {
   "cell_type": "code",
   "execution_count": 1,
   "metadata": {
    "collapsed": false
   },
   "outputs": [
    {
     "data": {
      "text/html": [
       "<div>\n",
       "<table border=\"1\" class=\"dataframe\">\n",
       "  <thead>\n",
       "    <tr style=\"text-align: right;\">\n",
       "      <th></th>\n",
       "      <th>time</th>\n",
       "      <th>track</th>\n",
       "      <th>range</th>\n",
       "      <th>angle</th>\n",
       "      <th>rangerate</th>\n",
       "      <th>latrate</th>\n",
       "      <th>power</th>\n",
       "    </tr>\n",
       "  </thead>\n",
       "  <tbody>\n",
       "    <tr>\n",
       "      <th>0</th>\n",
       "      <td>0.04131</td>\n",
       "      <td>19</td>\n",
       "      <td>4.5</td>\n",
       "      <td>-4.4</td>\n",
       "      <td>-0.02</td>\n",
       "      <td>0.00</td>\n",
       "      <td>25</td>\n",
       "    </tr>\n",
       "    <tr>\n",
       "      <th>1</th>\n",
       "      <td>0.04131</td>\n",
       "      <td>54</td>\n",
       "      <td>14.0</td>\n",
       "      <td>19.9</td>\n",
       "      <td>-0.01</td>\n",
       "      <td>-1.25</td>\n",
       "      <td>3</td>\n",
       "    </tr>\n",
       "    <tr>\n",
       "      <th>2</th>\n",
       "      <td>0.04131</td>\n",
       "      <td>44</td>\n",
       "      <td>18.1</td>\n",
       "      <td>14.3</td>\n",
       "      <td>2.63</td>\n",
       "      <td>-0.25</td>\n",
       "      <td>7</td>\n",
       "    </tr>\n",
       "    <tr>\n",
       "      <th>3</th>\n",
       "      <td>0.04131</td>\n",
       "      <td>28</td>\n",
       "      <td>11.9</td>\n",
       "      <td>26.8</td>\n",
       "      <td>0.01</td>\n",
       "      <td>1.00</td>\n",
       "      <td>10</td>\n",
       "    </tr>\n",
       "    <tr>\n",
       "      <th>4</th>\n",
       "      <td>0.04131</td>\n",
       "      <td>2</td>\n",
       "      <td>2.2</td>\n",
       "      <td>-3.2</td>\n",
       "      <td>0.01</td>\n",
       "      <td>0.00</td>\n",
       "      <td>31</td>\n",
       "    </tr>\n",
       "  </tbody>\n",
       "</table>\n",
       "</div>"
      ],
      "text/plain": [
       "      time  track  range  angle  rangerate  latrate  power\n",
       "0  0.04131     19    4.5   -4.4      -0.02     0.00     25\n",
       "1  0.04131     54   14.0   19.9      -0.01    -1.25      3\n",
       "2  0.04131     44   18.1   14.3       2.63    -0.25      7\n",
       "3  0.04131     28   11.9   26.8       0.01     1.00     10\n",
       "4  0.04131      2    2.2   -3.2       0.01     0.00     31"
      ]
     },
     "execution_count": 1,
     "metadata": {},
     "output_type": "execute_result"
    }
   ],
   "source": [
    "import numpy as np\n",
    "import pandas as pd\n",
    "import matplotlib.pyplot as plt\n",
    "\n",
    "radar_data = pd.read_csv('/Users/anthonydepalatis/Documents/Workspace/school/SeniorDesign/CARSTOP/radar/radar_preGFM.csv')\n",
    "radar_data.head()\n",
    "\n"
   ]
  },
  {
   "cell_type": "code",
   "execution_count": null,
   "metadata": {
    "collapsed": true
   },
   "outputs": [],
   "source": []
  }
 ],
 "metadata": {
  "kernelspec": {
   "display_name": "Python 2",
   "language": "python",
   "name": "python2"
  },
  "language_info": {
   "codemirror_mode": {
    "name": "ipython",
    "version": 2
   },
   "file_extension": ".py",
   "mimetype": "text/x-python",
   "name": "python",
   "nbconvert_exporter": "python",
   "pygments_lexer": "ipython2",
   "version": "2.7.13"
  }
 },
 "nbformat": 4,
 "nbformat_minor": 2
}
