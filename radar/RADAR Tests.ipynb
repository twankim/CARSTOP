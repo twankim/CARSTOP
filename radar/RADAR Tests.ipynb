{
 "cells": [
  {
   "cell_type": "code",
   "execution_count": 2,
   "metadata": {
    "collapsed": false
   },
   "outputs": [
    {
     "name": "stdout",
     "output_type": "stream",
     "text": [
      "Using channel: b'Kvaser Leaf Light v2' (channel 0), EAN: 73-30130-00685-0\n"
     ]
    }
   ],
   "source": [
    "import canlib\n",
    "\n",
    "cl = canlib.canlib()\n",
    "channels = cl.getNumberOfChannels()\n",
    "ch = 0; # Hard-coded, might need to change!\n",
    "if ch >= channels:\n",
    "    print(\"Invalid channel number\")\n",
    "    sys.exit()\n",
    "try:\n",
    "    ch1 = cl.openChannel(ch, canlib.canOPEN_ACCEPT_VIRTUAL)\n",
    "    print(\"Using channel: %s, EAN: %s\" % (ch1.getChannelData_Name(),\n",
    "    ch1.getChannelData_EAN()))\n",
    "    ch1.setBusOutputControl(canlib.canDRIVER_NORMAL)\n",
    "    ch1.setBusParams(canlib.canBITRATE_500K)\n",
    "    ch1.busOn()\n",
    "except (canlib.canError) as ex:\n",
    "    print(ex)\n",
    "# Initialize the Radar\n",
    "message = [0,0,0,0,0,0,191,0]\n",
    "ch1.write(1265,message,8)\n",
    "\n"
   ]
  },
  {
   "cell_type": "code",
   "execution_count": 360,
   "metadata": {
    "collapsed": false
   },
   "outputs": [
    {
     "data": {
      "text/plain": [
       "(1248, bytearray(b'\\x80_\\xff,\\x86\\x00\\x00\\x00'), 8, 2, 204)"
      ]
     },
     "execution_count": 360,
     "metadata": {},
     "output_type": "execute_result"
    }
   ],
   "source": [
    "ch1.read()"
   ]
  },
  {
   "cell_type": "code",
   "execution_count": null,
   "metadata": {
    "collapsed": true
   },
   "outputs": [],
   "source": []
  }
 ],
 "metadata": {
  "anaconda-cloud": {},
  "kernelspec": {
   "display_name": "Python [default]",
   "language": "python",
   "name": "python3"
  },
  "language_info": {
   "codemirror_mode": {
    "name": "ipython",
    "version": 3
   },
   "file_extension": ".py",
   "mimetype": "text/x-python",
   "name": "python",
   "nbconvert_exporter": "python",
   "pygments_lexer": "ipython3",
   "version": "3.5.2"
  }
 },
 "nbformat": 4,
 "nbformat_minor": 1
}
